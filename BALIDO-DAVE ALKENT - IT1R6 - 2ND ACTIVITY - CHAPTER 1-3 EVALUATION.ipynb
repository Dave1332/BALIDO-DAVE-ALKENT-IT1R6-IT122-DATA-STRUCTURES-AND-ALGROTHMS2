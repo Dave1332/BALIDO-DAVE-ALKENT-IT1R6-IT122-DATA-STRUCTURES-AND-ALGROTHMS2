{
 "cells": [
  {
   "cell_type": "code",
   "execution_count": 8,
   "id": "5888ed70-ee01-43ce-89a3-af35e31fb0f4",
   "metadata": {},
   "outputs": [
    {
     "name": "stdout",
     "output_type": "stream",
     "text": [
      "Discuss your learnings on Chapter 1  time-frame 8:00 - 30:35. Minimum of 200 characters\n"
     ]
    }
   ],
   "source": [
    "print(\"Discuss your learnings on Chapter 1  time-frame 8:00 - 30:35. Minimum of 200 characters\")"
   ]
  },
  {
   "cell_type": "code",
   "execution_count": 7,
   "id": "bc2aab1b-c409-4212-9227-ad2f13142396",
   "metadata": {},
   "outputs": [
    {
     "name": "stdout",
     "output_type": "stream",
     "text": [
      "Chapter 1 Learnings are the following:\n",
      "In this chapter I Data Sturcture and Algorithm, I've learned a lot by knowing the Algorithm. Algorithm is a step by step process of using or making a program. In this algorithm you can easily understand your code if you are going to study what is truly algorithm.Algorithm is computational pocedure that takes some value or a set of values, as input and procedures some value. An algorithm is a set of instructions designed to perform a specific task. This can be a simple process, such as multiplying two numbers, or a complex operation, such as playing a compressed video file. In computer programming, algorithms are often created as functions. Algorithm is a very important fo a programmerbecause algorithms are the building blocks of computer programs. They are as important to programming as recipes are to cooking.\n"
     ]
    }
   ],
   "source": [
    "print(\"Chapter 1 Learnings are the following:\")\n",
    "print(\"In this chapter I Data Sturcture and Algorithm, I've learned a lot by knowing the Algorithm. Algorithm is a step by step process of using or making a program. In this algorithm you can easily understand your code if you are going to study what is truly algorithm.Algorithm is computational pocedure that takes some value or a set of values, as input and procedures some value. An algorithm is a set of instructions designed to perform a specific task. This can be a simple process, such as multiplying two numbers, or a complex operation, such as playing a compressed video file. In computer programming, algorithms are often created as functions. Algorithm is a very important fo a programmerbecause algorithms are the building blocks of computer programs. They are as important to programming as recipes are to cooking.\")"
   ]
  },
  {
   "cell_type": "code",
   "execution_count": 6,
   "id": "1ad62bf9-d318-416e-afae-09706d077825",
   "metadata": {},
   "outputs": [
    {
     "name": "stdout",
     "output_type": "stream",
     "text": [
      "Discuss your learnings on Chapter 1  time-frame 35:00 - end. Minimum of 200 characters\n"
     ]
    }
   ],
   "source": [
    "print(\"Discuss your learnings on Chapter 1  time-frame 35:00 - end. Minimum of 200 characters\")"
   ]
  },
  {
   "cell_type": "code",
   "execution_count": 5,
   "id": "85aa81af-6f7d-43e8-ba93-7e24b3d134f9",
   "metadata": {},
   "outputs": [
    {
     "name": "stdout",
     "output_type": "stream",
     "text": [
      "Chapter 2 Learnings are the following:\n",
      "In this chapter II is defining what is data. Data will should be the atomic and it should be define the single concept and it also be traceable. and shoult be easily to understand. If I'm going to create a program and I will apply the Data Structure and Algoritm it will be concise and easily to understand. When I finished my program and I will be going to define my date, I will follow the four types of defining the data, ATOMIC, TRACEABLE,ACCURATE AND CLEAR & CONCISE so that it will be easy to understand. As a programmer we also need to study about the Data type there are Built-in Data Type and Derived Data Type. In Built-In Data type there are Integers, Biolen, Floating, Character and string. And int the Derived Data Type there are List, Array,Stack, and Queue. The Derived Data Type is a normally built by the combination of primary or built in data types and associated operations on them and the Built-In Data type is a language has built-in support. All of this data type is very important to a programmer. \n"
     ]
    }
   ],
   "source": [
    "print(\"Chapter 2 Learnings are the following:\")\n",
    "print(\"In this chapter II is defining what is data. Data will should be the atomic and it should be define the single concept and it also be traceable. and shoult be easily to understand. If I'm going to create a program and I will apply the Data Structure and Algoritm it will be concise and easily to understand. When I finished my program and I will be going to define my date, I will follow the four types of defining the data, ATOMIC, TRACEABLE,ACCURATE AND CLEAR & CONCISE so that it will be easy to understand. As a programmer we also need to study about the Data type there are Built-in Data Type and Derived Data Type. In Built-In Data type there are Integers, Biolen, Floating, Character and string. And int the Derived Data Type there are List, Array,Stack, and Queue. The Derived Data Type is a normally built by the combination of primary or built in data types and associated operations on them and the Built-In Data type is a language has built-in support. All of this data type is very important to a programmer. \")"
   ]
  },
  {
   "cell_type": "code",
   "execution_count": 4,
   "id": "ec00a46e-9ccf-4d9b-ba5c-a32bf80b6bd8",
   "metadata": {},
   "outputs": [
    {
     "name": "stdout",
     "output_type": "stream",
     "text": [
      "Discuss your learnings on Chapter 3  time-frame 3:00 - 18:00. Minimum of 200 characters\n"
     ]
    }
   ],
   "source": [
    "print(\"Discuss your learnings on Chapter 3  time-frame 3:00 - 18:00. Minimum of 200 characters\")"
   ]
  },
  {
   "cell_type": "code",
   "execution_count": 2,
   "id": "ec3064c7-0ecf-4c95-8100-f911b9d13271",
   "metadata": {},
   "outputs": [
    {
     "name": "stdout",
     "output_type": "stream",
     "text": [
      "Chapter 3 Learning are the follwoing:\n",
      "In this chapter III is all about the Array, Array Representation, and Basic Operationn. First is, Array is container which can hold a fix number of items and these items should be of the same type. They're two types of array, Element and Index. Element is an item stored in array is called an element and the Index is location of an element in array has a numerical index which use to identify the elements. Well using an array, is so much efficient. Because it'll allow you to save so much time and energy especially if you were asked to finish a program at a short amount of time. It'll also allow you to create as little lines of codes as possible. And Arrays can be used to group similar data together.\n"
     ]
    }
   ],
   "source": [
    "print(\"Chapter 3 Learning are the follwoing:\")\n",
    "print(\"In this chapter III is all about the Array, Array Representation, and Basic Operationn. First is, Array is container which can hold a fix number of items and these items should be of the same type. They're two types of array, Element and Index. Element is an item stored in array is called an element and the Index is location of an element in array has a numerical index which use to identify the elements. Well using an array, is so much efficient. Because it'll allow you to save so much time and energy especially if you were asked to finish a program at a short amount of time. It'll also allow you to create as little lines of codes as possible. And Arrays can be used to group similar data together.\")"
   ]
  },
  {
   "cell_type": "code",
   "execution_count": 12,
   "id": "229050b7-67cd-4afc-874a-ea9c42f7d423",
   "metadata": {},
   "outputs": [
    {
     "name": "stdout",
     "output_type": "stream",
     "text": [
      "24\n",
      "42\n",
      "45\n",
      "54\n",
      "36\n"
     ]
    }
   ],
   "source": [
    "from array import *\n",
    "arrayName = array('B',[24,42,45,54,36])\n",
    "\n",
    "\n",
    "print(arrayName[0])\n",
    "print(arrayName[1])\n",
    "print(arrayName[2])\n",
    "print(arrayName[3])\n",
    "print(arrayName[4])"
   ]
  },
  {
   "cell_type": "code",
   "execution_count": null,
   "id": "c7827c7b-bfdd-4c8e-aa25-37b0ee89778f",
   "metadata": {},
   "outputs": [],
   "source": []
  }
 ],
 "metadata": {
  "kernelspec": {
   "display_name": "Python 3",
   "language": "python",
   "name": "python3"
  },
  "language_info": {
   "codemirror_mode": {
    "name": "ipython",
    "version": 3
   },
   "file_extension": ".py",
   "mimetype": "text/x-python",
   "name": "python",
   "nbconvert_exporter": "python",
   "pygments_lexer": "ipython3",
   "version": "3.9.5"
  }
 },
 "nbformat": 4,
 "nbformat_minor": 5
}
